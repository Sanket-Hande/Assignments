{
 "cells": [
  {
   "cell_type": "markdown",
   "id": "5842bec5",
   "metadata": {},
   "source": [
    "### Q1. Write a Python Program to Find LCM?\n",
    "\n",
    "Least Common Multiple (LCM) of a number is the smallest number that is the product of two or more numbers. \n",
    " The least common multiple of two numbers is the lowest possible number that can be divisible by both numbers.eg LCM of 15 and 20 is 60 "
   ]
  },
  {
   "cell_type": "code",
   "execution_count": 6,
   "id": "f5ff3b43",
   "metadata": {},
   "outputs": [
    {
     "name": "stdout",
     "output_type": "stream",
     "text": [
      "Enter 1st number: 15\n",
      "Enter 2nd number: 20\n",
      "LCM of 15 and 20 is 60\n"
     ]
    }
   ],
   "source": [
    "# Method1 \n",
    "a = int(input(\"Enter 1st number: \"))\n",
    "b = int(input(\"Enter 2nd number: \"))\n",
    "\n",
    "if a>b:\n",
    "    maxs = a \n",
    "else:\n",
    "    maxs = b\n",
    "# while True: is just a way of running a loop that will continue to run until you explicitly break out of it using break or return \n",
    "while(True):\n",
    "    if((maxs%a==0) and (maxs%b==0)):\n",
    "        print('LCM of {} and {} is {}'.format(a,b,maxs))\n",
    "        break;\n",
    "    maxs += 1\n",
    "    "
   ]
  },
  {
   "cell_type": "markdown",
   "id": "c537b37b",
   "metadata": {},
   "source": [
    "### Q2. Write a Python Program to Find HCF?\n",
    "\n",
    "The Highest Common Factor (HCF) also called as the greatest common divisor (GCD) of two numbers is the highest possible number which divides both the numbers exactly. "
   ]
  },
  {
   "cell_type": "code",
   "execution_count": 13,
   "id": "12a67c61",
   "metadata": {},
   "outputs": [
    {
     "name": "stdout",
     "output_type": "stream",
     "text": [
      "Enter 1st number: 15\n",
      "Enter 2nd number: 20\n",
      "The hcf of 15 and 20 is 5\n"
     ]
    }
   ],
   "source": [
    "def hcf(a,b):\n",
    "    if a>b:\n",
    "        low = b\n",
    "    else:\n",
    "        low = a \n",
    "    \n",
    "    for i in range(1,low+1):\n",
    "        if ((a%i==0)and(y%i==0)):\n",
    "            gcd = i\n",
    "    return gcd\n",
    "\n",
    "x = int(input(\"Enter 1st number: \"))\n",
    "y = int(input(\"Enter 2nd number: \"))\n",
    "\n",
    "print(\"The hcf of {} and {} is {}\".format(x,y,hcf(x,y)))"
   ]
  },
  {
   "cell_type": "markdown",
   "id": "20ed381f",
   "metadata": {},
   "source": [
    "### Q3. Write a Python Program to Convert Decimal to Binary, Octal and Hexadecimal?"
   ]
  },
  {
   "cell_type": "code",
   "execution_count": 15,
   "id": "caa11575",
   "metadata": {},
   "outputs": [
    {
     "name": "stdout",
     "output_type": "stream",
     "text": [
      "Enter decimal value: 55\n",
      "Decimal {} to Binary {}  0b110111\n",
      "Decimal {} to Octal {}  0o67\n",
      "Decimal {} to Hexadecimal {}  0x37\n"
     ]
    }
   ],
   "source": [
    "# we have some built in functions for above conversions  bin() oct() hex()\n",
    "\n",
    "a = int(input(\"Enter decimal value: \"))\n",
    "print(\"Decimal {} to Binary {} \",bin(a))\n",
    "print(\"Decimal {} to Octal {} \",oct(a))\n",
    "print(\"Decimal {} to Hexadecimal {} \",hex(a))"
   ]
  },
  {
   "cell_type": "markdown",
   "id": "bfe17115",
   "metadata": {},
   "source": [
    "### Q4. Write a Python Program To Find ASCII value of a character?\n"
   ]
  },
  {
   "cell_type": "code",
   "execution_count": 26,
   "id": "71484759",
   "metadata": {},
   "outputs": [
    {
     "name": "stdout",
     "output_type": "stream",
     "text": [
      "Enter the character: i\n",
      "The ASCII value of a character i is 105 \n"
     ]
    }
   ],
   "source": [
    "# ord() takes only 1 letter \n",
    "n = input(\"Enter the character: \")\n",
    "print(\"The ASCII value of a character {} is {} \".format(n,ord(n)))"
   ]
  },
  {
   "cell_type": "markdown",
   "id": "e7653a8e",
   "metadata": {},
   "source": [
    "### Q5. Write a Python Program to Make a Simple Calculator with 4 basic mathematical operations?"
   ]
  },
  {
   "cell_type": "code",
   "execution_count": 9,
   "id": "93144278",
   "metadata": {},
   "outputs": [
    {
     "name": "stdout",
     "output_type": "stream",
     "text": [
      "Enter first number :10\n",
      "Enter second number :5\n",
      "\n",
      "\n",
      "\n",
      "1. + Addition\n",
      "2. - Subtract\n",
      "3. * Multiply\n",
      "4. / Divide\n",
      "0. Exit\n",
      "\n",
      "\n",
      "ENter choice:  1\n",
      "Addition =  15.0\n",
      "\n",
      "1. + Addition\n",
      "2. - Subtract\n",
      "3. * Multiply\n",
      "4. / Divide\n",
      "0. Exit\n",
      "\n",
      "\n",
      "ENter choice:  2\n",
      "Subtraction =  5.0\n",
      "\n",
      "1. + Addition\n",
      "2. - Subtract\n",
      "3. * Multiply\n",
      "4. / Divide\n",
      "0. Exit\n",
      "\n",
      "\n",
      "ENter choice:  3\n",
      "Multiplication =  50.0\n",
      "\n",
      "1. + Addition\n",
      "2. - Subtract\n",
      "3. * Multiply\n",
      "4. / Divide\n",
      "0. Exit\n",
      "\n",
      "\n",
      "ENter choice:  4\n",
      "Division =  2.0\n",
      "\n",
      "1. + Addition\n",
      "2. - Subtract\n",
      "3. * Multiply\n",
      "4. / Divide\n",
      "0. Exit\n",
      "\n",
      "\n",
      "ENter choice:  0\n",
      "Exit\n"
     ]
    }
   ],
   "source": [
    "class cal: \n",
    "    def __init__(self,ip1,ip2):\n",
    "        self.ip1 = ip1\n",
    "        self.ip2 = ip2 \n",
    "        \n",
    "    def add(self):\n",
    "        return self.ip1 + self.ip2 \n",
    "    \n",
    "    def sub(self):\n",
    "        return self.ip1 - self.ip2\n",
    "    \n",
    "    def multiply(self):\n",
    "        return self.ip1 * self.ip2 \n",
    "    \n",
    "    def divide(self):\n",
    "        return self.ip1 / self.ip2 \n",
    "    \n",
    "input1 = float(input('Enter first number :'))\n",
    "input2 = float(input('Enter second number :'))\n",
    "print('\\n')\n",
    "calculator = cal(input1,input2)\n",
    "\n",
    "choice = 1\n",
    "while choice !=0:\n",
    "    print(\"\\n1. + Addition\")\n",
    "    print(\"2. - Subtract\")\n",
    "    print(\"3. * Multiply\")\n",
    "    print(\"4. / Divide\")\n",
    "    print(\"0. Exit\")\n",
    "    print(\"\\n\")\n",
    "    choice = int(input('ENter choice:  '))\n",
    "    \n",
    "    if choice==1:\n",
    "        print('Addition = ',calculator.add())\n",
    "    \n",
    "    elif choice==2:\n",
    "        print('Subtraction = ',calculator.sub())\n",
    "        \n",
    "    elif choice==3:\n",
    "        print('Multiplication = ',calculator.multiply())\n",
    "      \n",
    "    elif choice==4:\n",
    "        print('Division = ',calculator.divide())\n",
    "        \n",
    "    elif choice==0:\n",
    "        print('Exit')\n",
    "        \n",
    "    else:\n",
    "        print(\"Invalid Choice\")\n",
    "\n",
    "        "
   ]
  },
  {
   "cell_type": "code",
   "execution_count": null,
   "id": "07951aa6",
   "metadata": {},
   "outputs": [],
   "source": []
  },
  {
   "cell_type": "markdown",
   "id": "69481833",
   "metadata": {},
   "source": [
    "### End of Assignment"
   ]
  },
  {
   "cell_type": "code",
   "execution_count": null,
   "id": "b17e4108",
   "metadata": {},
   "outputs": [],
   "source": []
  }
 ],
 "metadata": {
  "kernelspec": {
   "display_name": "Python 3",
   "language": "python",
   "name": "python3"
  },
  "language_info": {
   "codemirror_mode": {
    "name": "ipython",
    "version": 3
   },
   "file_extension": ".py",
   "mimetype": "text/x-python",
   "name": "python",
   "nbconvert_exporter": "python",
   "pygments_lexer": "ipython3",
   "version": "3.8.8"
  }
 },
 "nbformat": 4,
 "nbformat_minor": 5
}
