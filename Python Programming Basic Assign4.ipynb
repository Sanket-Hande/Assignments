{
 "cells": [
  {
   "cell_type": "markdown",
   "id": "502f20a2",
   "metadata": {},
   "source": [
    "### Q1. Write a Python Program to Find the Factorial of a Number?"
   ]
  },
  {
   "cell_type": "code",
   "execution_count": 8,
   "id": "67cd3246",
   "metadata": {},
   "outputs": [
    {
     "name": "stdout",
     "output_type": "stream",
     "text": [
      "Enter the number: 4\n",
      "Factorial of a number 4 is 24\n"
     ]
    }
   ],
   "source": [
    "n = int(input(\"Enter the number: \"))\n",
    "fact = 1 \n",
    "\n",
    "if n<0:\n",
    "    print(\"Negative number doesn't have factorial.\")\n",
    "elif n==0:\n",
    "    print(\"Factorial of 0 is 1\")\n",
    "else:\n",
    "    for i in range(1,n+1):\n",
    "        fact = fact*i\n",
    "    print(\"Factorial of a number {} is {}\".format(n,fact))"
   ]
  },
  {
   "cell_type": "markdown",
   "id": "35764826",
   "metadata": {},
   "source": [
    "### Q2. Write a Python Program to Display the multiplication Table?"
   ]
  },
  {
   "cell_type": "code",
   "execution_count": 15,
   "id": "fbbd6e33",
   "metadata": {},
   "outputs": [
    {
     "name": "stdout",
     "output_type": "stream",
     "text": [
      "Enter a number: 13\n",
      "\n",
      "The table of 13 is \n",
      "13 X 1 = 13\n",
      "13 X 2 = 26\n",
      "13 X 3 = 39\n",
      "13 X 4 = 52\n",
      "13 X 5 = 65\n",
      "13 X 6 = 78\n",
      "13 X 7 = 91\n",
      "13 X 8 = 104\n",
      "13 X 9 = 117\n",
      "13 X 10 = 130\n"
     ]
    }
   ],
   "source": [
    "def multable(num):\n",
    "    for i in range(1,11):\n",
    "        mul = i*num\n",
    "        print(\"{} X {} = {}\".format(num,i,mul))\n",
    "\n",
    "n = int(input(\"Enter a number: \"))\n",
    "print(\"\\nThe table of {} is \".format(n))\n",
    "multable(n)"
   ]
  },
  {
   "cell_type": "markdown",
   "id": "1c194e63",
   "metadata": {},
   "source": [
    "### Q3. Write a Python Program to Print the Fibonacci sequence?"
   ]
  },
  {
   "cell_type": "code",
   "execution_count": 35,
   "id": "ba93b06d",
   "metadata": {},
   "outputs": [
    {
     "name": "stdout",
     "output_type": "stream",
     "text": [
      "Enter length of series: 9\n",
      "\n",
      "\n",
      "Fibonacci series:  0 1 1 2 3 5 8 13 21 "
     ]
    }
   ],
   "source": [
    "# fibonacci means we add two previous number to get next number\n",
    "# eg 0 1 1 2 3 5 8 13 21 etc. \n",
    "num = int(input(\"Enter length of series: \"))\n",
    "n1 = 0\n",
    "n2 = 1 \n",
    "count = 1\n",
    "sums = 0\n",
    "print('\\n')\n",
    "print(\"Fibonacci series: \",end=\" \")\n",
    "while count<=num:\n",
    "    print(sums,end=\" \")\n",
    "    count +=1\n",
    "    n1=n2\n",
    "    n2=sums\n",
    "    sums  = n1+n2"
   ]
  },
  {
   "cell_type": "code",
   "execution_count": 20,
   "id": "93be8f40",
   "metadata": {},
   "outputs": [
    {
     "name": "stdout",
     "output_type": "stream",
     "text": [
      "Enter lenght of the series: 9\n",
      "0\n",
      "1\n",
      "1\n",
      "2\n",
      "3\n",
      "5\n",
      "8\n",
      "13\n",
      "21\n"
     ]
    }
   ],
   "source": [
    "# using function \n",
    "def fibo(n):\n",
    "    n1 = 0 \n",
    "    n2 = 1 \n",
    "    \n",
    "    if n<0:\n",
    "        print(\"Enter positive number\")\n",
    "    elif n==1:\n",
    "         print(n1)\n",
    "    else:\n",
    "        print(n1)\n",
    "        print(n2)\n",
    "        for i in range(2,n):\n",
    "            total = n1 + n2\n",
    "            n1 = n2 \n",
    "            n2 = total \n",
    "            print(total)\n",
    "\n",
    "n = int(input(\"Enter lenght of the series: \"))\n",
    "fibo(n)\n",
    "            \n"
   ]
  },
  {
   "cell_type": "markdown",
   "id": "b61ce3de",
   "metadata": {},
   "source": [
    "### Q4. Write a Python Program to Check Armstrong Number?"
   ]
  },
  {
   "cell_type": "markdown",
   "id": "f5c462b2",
   "metadata": {},
   "source": [
    "Armstrong number is also known as Perfect Digital Invariant or Narcissistic Number. \n",
    "An n-Digit number which is the Sum of the nth Powers of its Digits is called an n- narcissistic number\n",
    "eg. 153 = 1^3 + 5^3 + 3^3 . \n",
    "All single digit(0-9) are Armstrong number and no double digit(10-99) is Armstrong number"
   ]
  },
  {
   "cell_type": "code",
   "execution_count": 12,
   "id": "28a68235",
   "metadata": {},
   "outputs": [
    {
     "name": "stdout",
     "output_type": "stream",
     "text": [
      "The given number 0 is an Armstrong number\n",
      "The given number 64 is not an Armstrong number\n",
      "The given number 153 is an Armstrong number\n",
      "The given number 9898 is not an Armstrong number\n",
      "The given number 4679307774 is an Armstrong number\n"
     ]
    }
   ],
   "source": [
    "def arms(n):\n",
    "    tot = 0 \n",
    "    copy_n = n \n",
    "    order = len(str(n))\n",
    "    \n",
    "    while(n>0):\n",
    "        digit = n%10\n",
    "        tot += digit**order\n",
    "        n=n//10\n",
    "    \n",
    "    if (tot==copy_n):\n",
    "        print('The given number {} is an Armstrong number'.format(copy_n))\n",
    "    else:\n",
    "        print(\"The given number {} is not an Armstrong number\".format(copy_n))\n",
    "\n",
    "arms(0)\n",
    "arms(64)\n",
    "arms(153)\n",
    "arms(9898)\n",
    "arms(4679307774) #10 digit number  "
   ]
  },
  {
   "cell_type": "markdown",
   "id": "5af911f8",
   "metadata": {},
   "source": [
    "### Q5. Write a Python Program to Find Armstrong Number in an Interval?"
   ]
  },
  {
   "cell_type": "code",
   "execution_count": 29,
   "id": "cc1b10ec",
   "metadata": {},
   "outputs": [
    {
     "name": "stdout",
     "output_type": "stream",
     "text": [
      "Enter upper range: 5\n",
      "Enter lower range: 5000\n",
      "Armstrong number are : \n",
      "5 6 7 8 9 153 370 371 407 1634 "
     ]
    }
   ],
   "source": [
    "a = int(input('Enter upper range: '))\n",
    "b = int(input('Enter lower range: '))\n",
    "print(\"Armstrong number are : \")\n",
    "\n",
    "for i in range(b,a+1):\n",
    "    order = len(str(i))\n",
    "    \n",
    "    total = 0\n",
    "    \n",
    "    temp = i \n",
    "    \n",
    "    while temp>0:\n",
    "        digit = temp%10\n",
    "        total += digit**order\n",
    "        temp = temp//10\n",
    "    if i==total:\n",
    "        print(i,end=' ')"
   ]
  },
  {
   "cell_type": "markdown",
   "id": "ccc8773e",
   "metadata": {},
   "source": [
    "### Q6. Write a Python Program to Find the Sum of Natural Numbers?"
   ]
  },
  {
   "cell_type": "code",
   "execution_count": 1,
   "id": "85c61d8e",
   "metadata": {},
   "outputs": [
    {
     "name": "stdout",
     "output_type": "stream",
     "text": [
      "Enter number: 5\n",
      "The sum of numbers are  15\n"
     ]
    }
   ],
   "source": [
    "#using while loop\n",
    "n = int(input(\"Enter number: \"))\n",
    "tot = 0 \n",
    "\n",
    "if n<0:\n",
    "    print(\"Enter positive number\")\n",
    "else:\n",
    "    while(n>0):\n",
    "        tot += n\n",
    "        n -= 1\n",
    "    print(\"The sum of numbers is \",tot)"
   ]
  },
  {
   "cell_type": "code",
   "execution_count": 7,
   "id": "aa0f65e7",
   "metadata": {},
   "outputs": [
    {
     "name": "stdout",
     "output_type": "stream",
     "text": [
      "Enter number: 5\n",
      "Sum of first 5 numbers are 15\n"
     ]
    }
   ],
   "source": [
    "# using for loop \n",
    "num = int(input('Enter number: '))\n",
    "total = 0 \n",
    "for i in range(0,num+1):\n",
    "    total += i\n",
    "print(\"Sum of first {} numbers is {}\".format(num,total))"
   ]
  },
  {
   "cell_type": "code",
   "execution_count": 11,
   "id": "0bddaecc",
   "metadata": {},
   "outputs": [
    {
     "name": "stdout",
     "output_type": "stream",
     "text": [
      "Enter the number: 5\n",
      "The sum of first 5 numbers is  15\n"
     ]
    }
   ],
   "source": [
    "# without loops \n",
    "a = int(input('Enter the number: '))\n",
    "sums = a*(a+1)/2 # formula \n",
    "s = int(sums)\n",
    "print('The sum of first',a,'numbers is ',s)"
   ]
  },
  {
   "cell_type": "markdown",
   "id": "8007105d",
   "metadata": {},
   "source": [
    "### End of Assignment "
   ]
  },
  {
   "cell_type": "code",
   "execution_count": null,
   "id": "8fd23158",
   "metadata": {},
   "outputs": [],
   "source": []
  }
 ],
 "metadata": {
  "kernelspec": {
   "display_name": "Python 3",
   "language": "python",
   "name": "python3"
  },
  "language_info": {
   "codemirror_mode": {
    "name": "ipython",
    "version": 3
   },
   "file_extension": ".py",
   "mimetype": "text/x-python",
   "name": "python",
   "nbconvert_exporter": "python",
   "pygments_lexer": "ipython3",
   "version": "3.8.8"
  }
 },
 "nbformat": 4,
 "nbformat_minor": 5
}
