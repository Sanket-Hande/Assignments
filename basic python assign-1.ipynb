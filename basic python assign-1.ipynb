{
 "cells": [
  {
   "cell_type": "markdown",
   "metadata": {},
   "source": [
    "# # Basic Python Assignment-1 "
   ]
  },
  {
   "cell_type": "markdown",
   "metadata": {},
   "source": [
    "Q1: In the below elements which of them are values or an expression? eg:- values can be\n",
    "integer or string and expressions will be mathematical operators.\n",
    "* , 'hello', -87.8, - , /, + , 6\n",
    "\n",
    "Ans: * = It is a multiple operator used in an expression. \n",
    "     'hello' = It is a string (enclosed in single/double qoutes).\n",
    "     -87.4 = It is a floating point number. \n",
    "     - = It is Subtraction operators mostly used in expressions.\n",
    "     / = It is a Division operators mostly used in expressions.\n",
    "     + = It is a Addition operators mostly used in expressions.\n",
    "     6 = It is an integer \n",
    "     "
   ]
  },
  {
   "cell_type": "markdown",
   "metadata": {},
   "source": [
    "Q2: What is the difference between string and variable?\n",
    "\n",
    "Ans: A string is a datatype for sequence of characters. It could contain anything from letter, spaces, to anything. To make strings we just need to enclose them in double or single quotes (\" \"/' ').\n",
    "Here \"Spam\" is a stirng. \n",
    "Vairable are containers for storing data. \n",
    "Here Spam is a variable."
   ]
  },
  {
   "cell_type": "markdown",
   "metadata": {},
   "source": [
    "Q3: Describe three different data types.\n",
    "\n",
    "Ans: The 3 basic datatypes in python are- \n",
    "     1) int:- Integer datatypes are numbers without decimal point, example: 7, 5, 6, 46, 15 etc.\n",
    "     2) float:- Float datatypes are numbers with decimal point, example: 1.126512561, 4.99, etc.\n",
    "     3) string:- String is a datatype for sequence of characterss. example: \"Sam\", 'Jupyter', etc. "
   ]
  },
  {
   "cell_type": "markdown",
   "metadata": {},
   "source": [
    "Q4: What is an expression made up of? What do all expressions do?\n",
    "\n",
    "Ans Expression are combination of values,operators,variables. In simple language they are mathematical operations. Expressions are used in loops, with variables etc.\n",
    "example. y = 4*5/2, x-y+5, etc.\n",
    " "
   ]
  },
  {
   "cell_type": "markdown",
   "metadata": {},
   "source": [
    "Q5: This assignment statements, like spam = 10. What is the difference between an\n",
    "expression and a statement?\n",
    "\n",
    "Ans: Expressions are combination of values,operators,variables while statements are standalone\n",
    "statements which are performed in single go.\n"
   ]
  },
  {
   "cell_type": "code",
   "execution_count": 2,
   "metadata": {},
   "outputs": [
    {
     "data": {
      "text/plain": [
       "23"
      ]
     },
     "execution_count": 2,
     "metadata": {},
     "output_type": "execute_result"
    }
   ],
   "source": [
    "'''\n",
    "Q6: After running the following code, what does the variable bacon contain?\n",
    "bacon = 22\n",
    "bacon + 1\n",
    "\n",
    "Ans: output 23\n",
    "'''\n",
    "bacon =22\n",
    "bacon +1\n"
   ]
  },
  {
   "cell_type": "code",
   "execution_count": 8,
   "metadata": {},
   "outputs": [
    {
     "name": "stdout",
     "output_type": "stream",
     "text": [
      "spamspamspam\n",
      "spamspamspam\n"
     ]
    }
   ],
   "source": [
    "'''\n",
    "Q7: What should the values of the following two terms be?\n",
    "'spam' + 'spamspam'\n",
    "'spam' * 3\n",
    "\n",
    "Ans: 'spam' + 'spamspam' = 'spamspamspam'\n",
    "     'spam' *3 = 'spamspamspam'\n",
    "'''\n",
    "\n",
    "print('spam' + 'spamspam')\n",
    "print('spam'* 3)\n"
   ]
  },
  {
   "cell_type": "markdown",
   "metadata": {},
   "source": [
    "Q8: Why is eggs a valid variable name while 100 is invalid?\n",
    "\n",
    "Ans: 100 is a numeric value and int datatype whereas eggs doesnt correspond to any datatype or builtin function hence it is a valid variable. "
   ]
  },
  {
   "cell_type": "markdown",
   "metadata": {},
   "source": [
    "Q9: What three functions can be used to get the integer, floating-point number, or string\n",
    "version of a value?\n",
    "\n",
    "Ans To get integer value we use int(), for floatingpoint number we use float() and for string we use str(). "
   ]
  },
  {
   "cell_type": "code",
   "execution_count": 10,
   "metadata": {},
   "outputs": [
    {
     "data": {
      "text/plain": [
       "'I have eaten 99 burritos'"
      ]
     },
     "execution_count": 10,
     "metadata": {},
     "output_type": "execute_result"
    }
   ],
   "source": [
    "'''\n",
    "Q10: Why does this expression cause an error? How can you fix it?\n",
    "'I have eaten' + 99 +  'burritos'\n",
    "\n",
    "Ans: We cannot concatinate string and integer datatype. We have to typecast 99 to string which could be achieved as- \n",
    "'I have eaten' +str(99) + 'burritos' or simply by add ' ' quotes to 99.\n",
    "'''\n",
    "'I have eaten ' + str(99) +  ' burritos'"
   ]
  },
  {
   "cell_type": "markdown",
   "metadata": {},
   "source": [
    "End of Assignment. "
   ]
  }
 ],
 "metadata": {
  "kernelspec": {
   "display_name": "Python 3",
   "language": "python",
   "name": "python3"
  },
  "language_info": {
   "codemirror_mode": {
    "name": "ipython",
    "version": 3
   },
   "file_extension": ".py",
   "mimetype": "text/x-python",
   "name": "python",
   "nbconvert_exporter": "python",
   "pygments_lexer": "ipython3",
   "version": "3.8.5"
  }
 },
 "nbformat": 4,
 "nbformat_minor": 4
}
