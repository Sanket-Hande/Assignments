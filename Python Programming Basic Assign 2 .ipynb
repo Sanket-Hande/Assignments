{
 "cells": [
  {
   "cell_type": "markdown",
   "id": "e9015c6a",
   "metadata": {},
   "source": [
    "### Q1. Write a Python program to convert kilometers to miles?"
   ]
  },
  {
   "cell_type": "code",
   "execution_count": 4,
   "id": "37d5bd31",
   "metadata": {},
   "outputs": [
    {
     "name": "stdout",
     "output_type": "stream",
     "text": [
      "Enter the value: 1\n",
      "1.0 kilometer equals to 0.62137 miles\n"
     ]
    }
   ],
   "source": [
    "# we know that 1 kilometer (km) = 0.62137 miles (mi)\n",
    "km = float(input('Enter the value: '))\n",
    "mi = km*0.62137\n",
    "print('{} kilometer equals to {} miles'.format(km,mi))"
   ]
  },
  {
   "cell_type": "markdown",
   "id": "f14d97c1",
   "metadata": {},
   "source": [
    "### Q2. Write a Python program to convert Celsius to Fahrenheit?"
   ]
  },
  {
   "cell_type": "code",
   "execution_count": 9,
   "id": "2dd307d5",
   "metadata": {},
   "outputs": [
    {
     "name": "stdout",
     "output_type": "stream",
     "text": [
      "Enter the value to be converted:45.5\n",
      "\n",
      "\n",
      "45.5 degree celsius is 113.9 degree Farenheit\n"
     ]
    }
   ],
   "source": [
    "# Formula (0°C × 9/5) + 32 = 32°F\n",
    "def C_to_F(c):\n",
    "    f = c*(9/5)+32\n",
    "    print(\"{} degree celsius is {} degree Farenheit\".format(c,f))\n",
    "\n",
    "a = float(input(\"Enter the value to be converted:\"))\n",
    "print('\\n')\n",
    "C_to_F(a)"
   ]
  },
  {
   "cell_type": "markdown",
   "id": "b463352b",
   "metadata": {},
   "source": [
    "### Q3. Write a Python program to display calendar?"
   ]
  },
  {
   "cell_type": "code",
   "execution_count": 13,
   "id": "f0e2034a",
   "metadata": {},
   "outputs": [
    {
     "name": "stdout",
     "output_type": "stream",
     "text": [
      "Enter year: 2021\n",
      "Enter month number: 9\n",
      "\n",
      "\n",
      "   September 2021\n",
      "Mo Tu We Th Fr Sa Su\n",
      "       1  2  3  4  5\n",
      " 6  7  8  9 10 11 12\n",
      "13 14 15 16 17 18 19\n",
      "20 21 22 23 24 25 26\n",
      "27 28 29 30\n",
      "\n"
     ]
    }
   ],
   "source": [
    "import calendar as cal\n",
    "\n",
    "year = int(input(\"Enter year: \"))\n",
    "month = int(input(\"Enter month number: \"))\n",
    "print('\\n')\n",
    "print(cal.month(year,month))"
   ]
  },
  {
   "cell_type": "markdown",
   "id": "18b4c38f",
   "metadata": {},
   "source": [
    "### Q4. Write a Python program to solve quadratic equation?"
   ]
  },
  {
   "cell_type": "code",
   "execution_count": 20,
   "id": "252dd0ae",
   "metadata": {},
   "outputs": [
    {
     "name": "stdout",
     "output_type": "stream",
     "text": [
      "Enter a value: 1.5\n",
      "Enter b value: 5.8\n",
      "Enter c value: 2\n",
      "\n",
      "\n",
      "Roots of the equation are (-0.38270622005159893+0j) or (-3.4839604466150678+0j)\n"
     ]
    }
   ],
   "source": [
    "# quadratic equation is ax2 + bx + c = 0\n",
    "# fromula x = -b +- squareroot(b^2-4ac)/2a\n",
    "import cmath\n",
    "\n",
    "a = float(input(\"Enter a value: \"))\n",
    "b = float(input(\"Enter b value: \"))\n",
    "c = float(input(\"Enter c value: \"))\n",
    "print('\\n')\n",
    "\n",
    "d = (b**2) - (4*a*c)\n",
    "x1 = (-b + cmath.sqrt(d))/(2*a)\n",
    "x2 = (-b - cmath.sqrt(d))/(2*a)\n",
    "\n",
    "print(\"Roots of the equation are {} or {}\".format(x1,x2))\n"
   ]
  },
  {
   "cell_type": "markdown",
   "id": "d25f6699",
   "metadata": {},
   "source": [
    "### 5. Write a Python program to swap two variables without temp variable?"
   ]
  },
  {
   "cell_type": "code",
   "execution_count": 23,
   "id": "e6cf4dfa",
   "metadata": {},
   "outputs": [
    {
     "name": "stdout",
     "output_type": "stream",
     "text": [
      "Enter a value: 4\n",
      "Enter b value: 7\n",
      "\n",
      "\n",
      "a =  7.0\n",
      "b =  4.0\n"
     ]
    }
   ],
   "source": [
    "a = float(input('Enter a value: '))\n",
    "b = float(input('Enter b value: '))\n",
    "print('\\n')\n",
    "a,b = b,a\n",
    "print(\"a = \",a)\n",
    "print('b = ',b)\n"
   ]
  },
  {
   "cell_type": "code",
   "execution_count": null,
   "id": "26fa3593",
   "metadata": {},
   "outputs": [],
   "source": []
  }
 ],
 "metadata": {
  "kernelspec": {
   "display_name": "Python 3",
   "language": "python",
   "name": "python3"
  },
  "language_info": {
   "codemirror_mode": {
    "name": "ipython",
    "version": 3
   },
   "file_extension": ".py",
   "mimetype": "text/x-python",
   "name": "python",
   "nbconvert_exporter": "python",
   "pygments_lexer": "ipython3",
   "version": "3.8.8"
  }
 },
 "nbformat": 4,
 "nbformat_minor": 5
}
