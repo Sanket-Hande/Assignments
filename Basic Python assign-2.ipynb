{
 "cells": [
  {
   "cell_type": "markdown",
   "metadata": {},
   "source": [
    "## Assignment-2"
   ]
  },
  {
   "cell_type": "code",
   "execution_count": 12,
   "metadata": {},
   "outputs": [
    {
     "name": "stdout",
     "output_type": "stream",
     "text": [
      "True\n",
      "False\n"
     ]
    }
   ],
   "source": [
    "'''\n",
    "Q1: What are the two values of the Boolean data type? How do you write them?\n",
    "\n",
    "Ans: True and False are the two values of Boolean data type. (True =1 and False = 0) \n",
    "'''\n",
    "print(True == 1)\n",
    "print(False ==1)\n"
   ]
  },
  {
   "cell_type": "code",
   "execution_count": 14,
   "metadata": {},
   "outputs": [
    {
     "data": {
      "text/plain": [
       "True"
      ]
     },
     "execution_count": 14,
     "metadata": {},
     "output_type": "execute_result"
    }
   ],
   "source": [
    "'''\n",
    "Q2: What are the three different types of Boolean operators?\n",
    "\n",
    "Ans: Three types of Boolean operators are and(&), or(|), not. They are used in expressions.\n",
    "example:\n",
    "'''\n",
    "not(True and True) or (False or True) "
   ]
  },
  {
   "cell_type": "markdown",
   "metadata": {},
   "source": [
    "### Q3: Make a list of each Boolean operators truth tables (i.e. every possible combination of Boolean\n",
    "values for the operator and what it evaluate ).\n",
    "\n",
    "Ans: \n",
    "\n",
    "|  a  | |  b  | |a and b| |a or b|\n",
    "|-----| |-----| |-------| |------|\n",
    "|True| |True| |True  | |True|\n",
    "|True| |False| |False| |True|\n",
    "|False| |True| |False| |True|\n",
    "|False| |False| |False| |False|\n",
    "\n",
    "OR\n",
    "\n",
    "| x | | y | |x and y| |x or y|\n",
    "|---| |---| |-------| |------|\n",
    "|1|   |1|   |1|       |1|\n",
    "|1|   |0|   |0|       |1|\n",
    "|0|   |1|   |0|       |1|\n",
    "|0|   |0|   |0|       |0|\n"
   ]
  },
  {
   "cell_type": "markdown",
   "metadata": {},
   "source": [
    "\n"
   ]
  },
  {
   "cell_type": "code",
   "execution_count": 7,
   "metadata": {},
   "outputs": [
    {
     "name": "stdout",
     "output_type": "stream",
     "text": [
      "False\n",
      "False\n",
      "True\n",
      "False\n",
      "False\n",
      "True\n"
     ]
    }
   ],
   "source": [
    "# Q4: What are the values of the following expressions?\n",
    "# Ans:\n",
    "print((5>4)and(3==5))\n",
    "print(not(5>4))\n",
    "print((5>4)or(3==5))\n",
    "print(not((5>4)or(3==5)))\n",
    "print((True and True)and(True==False))\n",
    "print((not False)or(not True))"
   ]
  },
  {
   "cell_type": "markdown",
   "metadata": {},
   "source": [
    "### Q5. What are the six comparison operators?\n",
    "Ans: The comparison operators are as follows: \n",
    "\n",
    "     1) > Greater than operator : Is true when left operand is greater than right. \n",
    "        example: let x=6 and y=4 then x>y would be True. \n",
    "     \n",
    "     2) < Less than operator: Is true when left operand is less than right.\n",
    "        example: Let x= -12 and y= -7 then x<y  would be True.\n",
    "     \n",
    "     3) >= Greater than or equal to: When left operand is greater or equal to left.\n",
    "        example: a) let x=5 and y=5 then x>=y is True\n",
    "                 b) let x=5 and y=3 then x>=y is True\n",
    "     \n",
    "     4) <= Less than or equal to: When left operand is less than or equal to right.\n",
    "        example: a) let x= -25 and y = -25 then x<=y is True \n",
    "                 b) let x = 25 and y = 30 then x<=y is True. \n",
    "           \n",
    "     5) == Equal to operator: Would be True only if both operands are True \n",
    "        example: x=1 and y=1 then x==y would be True. \n",
    "       \n",
    "     6) != Not equal to operator: True if only both operands are unequal. \n",
    "        example: x=7 and y=-7 then x!=y would be True.\n",
    "\n"
   ]
  },
  {
   "cell_type": "markdown",
   "metadata": {},
   "source": [
    "### Q6. How do you tell the difference between the equal to and assignment operators?Describe a condition and when you would use one.\n",
    "\n",
    "Ans. 1) Assignment operator is denoted by single equal to sign (=). It assigns the value on right to left variable.\n",
    "        example: a = 5 \n",
    "                 b = 6 \n",
    "                 x = a \n",
    "                 y = b \n",
    "     \n",
    "     2) Equal operator is denoted by '==' . It check if the operands are equal or not. \n",
    "        example: let a = 5 and y = 4 \n",
    "                 then a==y will return False \n",
    "        \n",
    "       \n",
    "       \n",
    "             \n",
    "     "
   ]
  },
  {
   "cell_type": "code",
   "execution_count": 27,
   "metadata": {},
   "outputs": [
    {
     "name": "stdout",
     "output_type": "stream",
     "text": [
      "ham\n",
      "spam\n",
      "spam\n"
     ]
    }
   ],
   "source": [
    "# Q7. Identify the three blocks in this code\n",
    "\n",
    "spam = 0 \n",
    "\n",
    "if spam==10:\n",
    "    print('eggs') # will not enter because spam = 0 \n",
    "    \n",
    "if spam > 5: \n",
    "    print(\"bacon\") # wont enter this block\n",
    "else: \n",
    "    print(\"ham\") # will enter here \n",
    "    print('spam')\n",
    "    print('spam')\n"
   ]
  },
  {
   "cell_type": "code",
   "execution_count": 29,
   "metadata": {},
   "outputs": [
    {
     "name": "stdout",
     "output_type": "stream",
     "text": [
      "Enter the value: 1\n",
      "Hello\n"
     ]
    }
   ],
   "source": [
    "\"\"\"\n",
    "Q8. Write code that prints Hello if 1 is stored in spam, prints Howdy if 2 is stored in spam, and prints\n",
    "    Greetings! if anything else is stored in spam.\n",
    "\"\"\"\n",
    "\n",
    "spam = int(input(\"Enter the value: \"))\n",
    "\n",
    "if spam==1:\n",
    "    print('Hello')\n",
    "elif spam==2:\n",
    "    print(\"Howdy\")\n",
    "else: \n",
    "    print(\"Greetings!\")\n",
    "        "
   ]
  },
  {
   "cell_type": "markdown",
   "metadata": {},
   "source": [
    "### Q9. If your programme is stuck in an endless loop, what keys you’ll press?\n",
    "\n",
    "Ans. Solution: 1) In command line we can press Ctrl+c\n",
    "               2) If in jupyter we can stop Kernel "
   ]
  },
  {
   "cell_type": "code",
   "execution_count": 6,
   "metadata": {},
   "outputs": [
    {
     "name": "stdout",
     "output_type": "stream",
     "text": [
      "Break example\n",
      "1\n",
      "2\n",
      "\n",
      "Continue Example\n",
      "1\n",
      "2\n",
      "3\n",
      "4\n",
      "5\n",
      "6\n",
      "8\n",
      "9\n",
      "10\n"
     ]
    }
   ],
   "source": [
    "'''\n",
    "Q10. How can you tell the difference between break and continue?\n",
    "Ans. Break: It leaves the loop (it terminates loop) and executes next statement \n",
    "     Continue: It skips current iteration (statement) and excecutes next iteration in loop. \n",
    "'''\n",
    "# example of break: \n",
    "print('Break example')\n",
    "l = [1,2,3,4,5,6,7,8,9,10]\n",
    "for i in l:\n",
    "    if (i==3):\n",
    "        break\n",
    "    print(i)    \n",
    "\n",
    "print(\"\\nContinue Example\")\n",
    "for a in l:\n",
    "    if a==7:\n",
    "        continue\n",
    "    print(a)"
   ]
  },
  {
   "cell_type": "code",
   "execution_count": 10,
   "metadata": {},
   "outputs": [
    {
     "name": "stdout",
     "output_type": "stream",
     "text": [
      "0\n",
      "1\n",
      "2\n",
      "3\n",
      "4\n",
      "5\n",
      "6\n",
      "7\n",
      "8\n",
      "9\n",
      "\n",
      "\n",
      "0\n",
      "1\n",
      "2\n",
      "3\n",
      "4\n",
      "5\n",
      "6\n",
      "7\n",
      "8\n",
      "9\n",
      "\n",
      "\n",
      "0\n",
      "1\n",
      "2\n",
      "3\n",
      "4\n",
      "5\n",
      "6\n",
      "7\n",
      "8\n",
      "9\n"
     ]
    }
   ],
   "source": [
    "'''\n",
    "Q11. In a for loop, what is the difference between range(10), range(0, 10), and range(0, 10, 1)?\n",
    "Ans. range(10) gives numbers from 0 to 9 \n",
    "     range(0,10) also gives numbers from 0 to 9 (they are same, here starting value is specified ) \n",
    "     range(0,10,1) also gives numbers from 0 to 9 but here we have specified increase iteration by 1 by default above we increment is 1 but here we change \n",
    "'''\n",
    "for i in range(10):\n",
    "    print(i)\n",
    "print('\\n')\n",
    "for a in range(0,10):\n",
    "    print(a)\n",
    "print('\\n')\n",
    "for b in range(0,10,1):\n",
    "    print(b)"
   ]
  },
  {
   "cell_type": "code",
   "execution_count": 17,
   "metadata": {},
   "outputs": [
    {
     "name": "stdout",
     "output_type": "stream",
     "text": [
      "For Loop\n",
      "0\n",
      "1\n",
      "2\n",
      "3\n",
      "4\n",
      "5\n",
      "6\n",
      "7\n",
      "8\n",
      "9\n",
      "10\n",
      "\n",
      "\n",
      "While Loop\n",
      "1\n",
      "2\n",
      "3\n",
      "4\n",
      "5\n",
      "6\n",
      "7\n",
      "8\n",
      "9\n",
      "10\n"
     ]
    }
   ],
   "source": [
    "'''\n",
    "Q12. Write a short program that prints the numbers 1 to 10 using a for loop. Then write an equivalent\n",
    "program that prints the numbers 1 to 10 using a while loop.\n",
    "'''\n",
    "print('For Loop')\n",
    "for i in range(11):\n",
    "    print(i)\n",
    "print('\\n')\n",
    "\n",
    "print('While Loop')\n",
    "i=1\n",
    "while i>0 and i<=10:\n",
    "    print(i)\n",
    "    i=i+1"
   ]
  },
  {
   "cell_type": "markdown",
   "metadata": {},
   "source": [
    "### Q13. If you had a function named bacon() inside a module named spam, how would you call it after importing spam?\n",
    "Ans.\n",
    "from spam import bacon()\n",
    "\n",
    "or \n",
    "\n",
    "import spam\n",
    "spam.bacon()"
   ]
  },
  {
   "cell_type": "code",
   "execution_count": null,
   "metadata": {},
   "outputs": [],
   "source": []
  }
 ],
 "metadata": {
  "kernelspec": {
   "display_name": "Python 3",
   "language": "python",
   "name": "python3"
  },
  "language_info": {
   "codemirror_mode": {
    "name": "ipython",
    "version": 3
   },
   "file_extension": ".py",
   "mimetype": "text/x-python",
   "name": "python",
   "nbconvert_exporter": "python",
   "pygments_lexer": "ipython3",
   "version": "3.8.8"
  }
 },
 "nbformat": 4,
 "nbformat_minor": 4
}
