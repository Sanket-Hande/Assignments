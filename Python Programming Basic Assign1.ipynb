{
 "cells": [
  {
   "cell_type": "markdown",
   "metadata": {},
   "source": [
    "## Python Programming Basic Assignment -1"
   ]
  },
  {
   "cell_type": "code",
   "execution_count": 2,
   "metadata": {},
   "outputs": [
    {
     "name": "stdout",
     "output_type": "stream",
     "text": [
      "Hello Python\n"
     ]
    }
   ],
   "source": [
    "# Q1: Write a Python program to print \"Hello Python\"?\n",
    "print('Hello Python')"
   ]
  },
  {
   "cell_type": "code",
   "execution_count": 6,
   "metadata": {},
   "outputs": [
    {
     "name": "stdout",
     "output_type": "stream",
     "text": [
      "Enter first number: 18\n",
      "Enter seconf number: 2\n",
      "Addition is:  20\n",
      "Division is:  9.0\n"
     ]
    }
   ],
   "source": [
    "# Q2: Write a Python program to do arithmetical operations addition and division.?\n",
    "a = int(input(\"Enter first number: \"))\n",
    "b = int(input(\"Enter seconf number: \"))\n",
    "print('Addition is: ',a+b)\n",
    "print('Division is: ',a/b)"
   ]
  },
  {
   "cell_type": "code",
   "execution_count": 8,
   "metadata": {},
   "outputs": [
    {
     "name": "stdout",
     "output_type": "stream",
     "text": [
      "Enter base: 12\n",
      "Enter height: 6\n",
      "Area of a traingle is:  36.0\n"
     ]
    }
   ],
   "source": [
    "# Q3: Write a Python program to find the area of a triangle?\n",
    "base = int(input('Enter base: '))\n",
    "height = int(input('Enter height: '))\n",
    "Area = 1/2 * base * height\n",
    "print('Area of a traingle is: ',Area)"
   ]
  },
  {
   "cell_type": "code",
   "execution_count": 10,
   "metadata": {},
   "outputs": [
    {
     "name": "stdout",
     "output_type": "stream",
     "text": [
      "6\n",
      "5\n"
     ]
    }
   ],
   "source": [
    "# Q4: Write a Python program to swap two variables?\n",
    "a = 5\n",
    "b = 6\n",
    "a,b = b,a\n",
    "print(a)\n",
    "print(b)"
   ]
  },
  {
   "cell_type": "code",
   "execution_count": 14,
   "metadata": {},
   "outputs": [
    {
     "name": "stdout",
     "output_type": "stream",
     "text": [
      "59\n"
     ]
    }
   ],
   "source": [
    "# Q5: Write a Python program to generate a random number?\n",
    "from random import *\n",
    "a = randint(0,100)\n",
    "print(a)"
   ]
  },
  {
   "cell_type": "markdown",
   "metadata": {},
   "source": [
    "## End of Assignment "
   ]
  }
 ],
 "metadata": {
  "kernelspec": {
   "display_name": "Python 3",
   "language": "python",
   "name": "python3"
  },
  "language_info": {
   "codemirror_mode": {
    "name": "ipython",
    "version": 3
   },
   "file_extension": ".py",
   "mimetype": "text/x-python",
   "name": "python",
   "nbconvert_exporter": "python",
   "pygments_lexer": "ipython3",
   "version": "3.8.5"
  }
 },
 "nbformat": 4,
 "nbformat_minor": 4
}
